{
 "cells": [
  {
   "cell_type": "code",
   "execution_count": 1,
   "metadata": {},
   "outputs": [],
   "source": [
    "%matplotlib inline\n",
    "import numpy as np\n",
    "import matplotlib.pyplot as plt"
   ]
  },
  {
   "cell_type": "markdown",
   "metadata": {},
   "source": [
    "# Assignment 2\n",
    "\n",
    "## Task 2.1\n",
    "\n",
    "First I do the same as in assignment 1: defines a arbitrary polynomial model. \n",
    "\n",
    "\n"
   ]
  },
  {
   "cell_type": "code",
   "execution_count": 85,
   "metadata": {},
   "outputs": [
    {
     "data": {
      "image/png": "[encoded data removed]",
      "text/plain": "<Figure size 432x288 with 1 Axes>"
     },
     "metadata": {
      "needs_background": "light",
      "transient": {}
     },
     "output_type": "display_data"
    }
   ],
   "source": [
    "def arbitrary_poly(params):\n",
    "    poly_model = lambda x: sum([p*(x**i) for i, p in enumerate(params)])\n",
    "    return poly_model\n",
    "\n",
    "# params: [theta_0, theta_1, ... , theta_n], where n = model order and theta_0 is bias \n",
    "true_params = [1,2,6]\n",
    "y_model = arbitrary_poly(true_params)\n",
    "\n",
    "# Plot true model\n",
    "x = np.linspace(start=-3, stop=3, num=20)\n",
    "plt.figure()\n",
    "plt.plot(x, y_model(x))\n",
    "plt.xlabel(\"x\")\n",
    "plt.ylabel(\"y\")\n",
    "plt.title(\"Model\");"
   ]
  },
  {
   "cell_type": "markdown",
   "metadata": {},
   "source": [
    "### Then I generate the noise measurements with gaussian distribution:"
   ]
  },
  {
   "cell_type": "code",
   "execution_count": 91,
   "metadata": {},
   "outputs": [
    {
     "data": {
      "image/png": "[encoded data removed]",
      "text/plain": "<Figure size 432x288 with 1 Axes>"
     },
     "metadata": {
      "needs_background": "light",
      "transient": {}
     },
     "output_type": "display_data"
    }
   ],
   "source": [
    "# Hyperparameters for the type of noise-generating distribution.\n",
    "loc = 0           # location (mean) parameter \n",
    "scale = 1         # scaling (std dev) parameter\n",
    "magnitude = 1.2   # noise magnitude\n",
    "N = 201          # number of samples\n",
    "\n",
    "np.random.seed(123)  # Non-random generation between code executions. Comment out for true random\n",
    "\n",
    "# Generate data points\n",
    "range_low = -3\n",
    "range_high = 3\n",
    "u = np.sort(np.random.uniform(range_low,range_high,N))\n",
    "y_true = y_model(u)\n",
    "\n",
    "\n",
    "# Generate noisez\n",
    "from scipy.stats import norm, laplace\n",
    "\n",
    "normVariance = 1 # Input as the scale parameter in the normal distribution\n",
    "\n",
    "laplaceVariance = 1\n",
    "\n",
    "alfa = 0\n",
    "\n",
    "gamma = 0.1\n",
    "\n",
    "noiseNorm = magnitude * np.random.normal(loc, normVariance, int(alfa * N*(1-gamma)))\n",
    "\n",
    "noiseLaplace = magnitude * np.random.laplace(loc, laplaceVariance, int((1-alfa)*N*(1-gamma)))\n",
    "\n",
    "faultyMeasurement = np.full(int(N*gamma), 100) \n",
    "\n",
    "NoiseFault = np.concatenate((noise, faultyMeasurement))\n",
    "\n",
    "np.random.shuffle(NoiseFault)\n",
    "\n",
    "# Add noise to the generated data points - thus simulating measurement\n",
    "\n",
    "y = y_true\n",
    "\n",
    "for i in range(0, N-1):\n",
    "    if NoiseFault[i] == 100:\n",
    "        y[i] = NoiseFault[i]\n",
    "    else:\n",
    "        y[i] = y_true[i] + NoiseFault[i]\n",
    "\n",
    "# Plot measured data\n",
    "plt.scatter(u, y, label=r\"Measured data\")\n",
    "u0 = np.linspace(min(u), max(u), N)\n",
    "plt.plot(u0, y_model(u0), \"k\", alpha=0.3, lw=3, label=\"True model\")\n",
    "plt.legend()\n",
    "plt.xlabel(\"x\")\n",
    "plt.ylabel(\"y\");"
   ]
  },
  {
   "cell_type": "markdown",
   "metadata": {},
   "source": [
    "## Task 2.3\n",
    "\n",
    "### LS:\n",
    "\n"
   ]
  },
  {
   "cell_type": "code",
   "execution_count": 176,
   "metadata": {},
   "outputs": [
    {
     "ename": "SyntaxError",
     "evalue": "invalid syntax (<ipython-input-176-6ee73ce1891b>, line 25)",
     "output_type": "error",
     "traceback": [
      "\u001b[0;36m  File \u001b[0;32m\"<ipython-input-176-6ee73ce1891b>\"\u001b[0;36m, line \u001b[0;32m25\u001b[0m\n\u001b[0;31m    print(\"The differnence between the estimated theata and the real Theta is: \" {diffParams})\u001b[0m\n\u001b[0m                                                                                 ^\u001b[0m\n\u001b[0;31mSyntaxError\u001b[0m\u001b[0;31m:\u001b[0m invalid syntax\n"
     ]
    }
   ],
   "source": [
    "# Matrix form\n",
    "u_tensor_0 = np.reshape(u,(N,1))\n",
    "\n",
    "ones_vec = np.ones((N,1))\n",
    "u_tensor = np.append(ones_vec, u_tensor_0, axis=1)\n",
    "\n",
    "for i in range(2,len(true_params)):\n",
    "    u_tensor = np.append(u_tensor, np.power(u_tensor_0, i) ,axis=1)\n",
    "\n",
    "u_transpose_dot_u = np.dot(u_tensor.T,u_tensor)  # calculating dot product\n",
    "u_transpose_dot_u_inv = np.linalg.inv(u_transpose_dot_u) #calculating inverse\n",
    "\n",
    "u_transpose_dot_y = np.dot(u_tensor.T,y)  # calculating dot product\n",
    "\n",
    "\n",
    "LS_params = np.dot(u_transpose_dot_u_inv,u_transpose_dot_y)\n",
    "LS_params_rounded = [\"{:.2f}\".format(round(i, 2)) for i in LS_params.tolist()]\n",
    "print(f\"LS parameters:         {LS_params_rounded}\")\n",
    "print(f\"True model parameters: {true_params}\")\n",
    "\n",
    "diffParams = []\n",
    "for i in range(0, len(true_params)):\n",
    "    diffParams.append(float(true_params[i] - float(LS_params_rounded[i])))\n",
    "\n",
    "print(\"The differnence between the estimated theata and the real Theta is: \" {diffParams})\n",
    "\n",
    "# Recreate model based on LS estimate:\n",
    "LS_params = LS_params.tolist()\n",
    "LS_estimate = arbitrary_poly(LS_params)\n",
    "\n",
    "# Plot true vs. estimated model\n",
    "plt.scatter(u, y, label=r\"Measured data $\\mathcal{N}(\\mu, \\sigma)$\")\n",
    "u0 = np.linspace(min(u), max(u), N)\n",
    "plt.plot(u0, y_model(u0), \"g\", alpha=0.7, lw=3, label=\"True model\")\n",
    "plt.plot(u0, LS_estimate(u0), \"r--\",  lw=3, label=\"LS estimate\")\n",
    "#plt.xlim(0, 10)\n",
    "plt.legend()\n",
    "plt.xlabel(\"x\")\n",
    "plt.ylabel(\"y\");"
   ]
  },
  {
   "cell_type": "markdown",
   "metadata": {},
   "source": [
    "## ML:\n",
    "\n",
    "\n",
    "### Function for calculating the log likelihood function: "
   ]
  },
  {
   "cell_type": "code",
   "execution_count": 113,
   "metadata": {},
   "outputs": [],
   "source": [
    "def log_lik(par_vec, y, x):\n",
    "    global pdf  # Use the distribution class chosen earlier\n",
    "    # If the standard deviation parameter is negative, return a large value:\n",
    "    if par_vec[-1] < 0:\n",
    "        return(1e8)\n",
    "    # The likelihood function values:\n",
    "    lik = pdf(y,\n",
    "              loc = sum([p*(x**i) for i, p in enumerate(par_vec[:-1])]),\n",
    "              scale = par_vec[-1])\n",
    "    \n",
    "    #This is similar to calculating the likelihood for Y - XB\n",
    "    # res = y - par_vec[0] - par_vec[1] * x\n",
    "    # lik = norm.pdf(res, loc = 0, sd = par_vec[2])\n",
    "    \n",
    "    # If all logarithms are zero, return a large value\n",
    "    if all(v == 0 for v in lik):\n",
    "        return(1e8)\n",
    "    # Logarithm of zero = -Inf\n",
    "    return(-sum(np.log(lik[np.nonzero(lik)])))"
   ]
  },
  {
   "cell_type": "markdown",
   "metadata": {},
   "source": [
    "### Function for calculating the MLE:"
   ]
  },
  {
   "cell_type": "code",
   "execution_count": 175,
   "metadata": {},
   "outputs": [],
   "source": [
    "def MLEfunction(order, pdf):\n",
    "\n",
    "    import scipy.optimize as optimize\n",
    "\n",
    "    # The likelihood function includes the scale (std dev) parameter which is also estimated by the optimized\n",
    "    # therefore the initial guess verctor has length n+2 [theta_0_hat, theta_1_hat, ... , theta_n_hat, sigma_hat]\n",
    "    init_guess = np.zeros(order+1)\n",
    "    init_guess[-1] = N\n",
    "\n",
    "    # Do Maximum Likelihood Estimation:\n",
    "    opt_res = optimize.minimize(fun = log_lik,\n",
    "                                x0 = init_guess,\n",
    "                                options={'disp': False},\n",
    "                                args = (y, u))\n",
    "\n",
    "    MLE_params = opt_res.x[:-1]\n",
    "    MLE_estimate = arbitrary_poly(MLE_params)\n",
    "\n",
    "    MLE_params_rounded = [\"{:.2f}\".format(round(i, 2)) for i in MLE_params.tolist()]\n",
    "    print(f\"\\nMLE parameters of order :      {MLE_params_rounded}\")\n",
    "\n",
    "    return MLE_estimate\n",
    "\n",
    "    "
   ]
  },
  {
   "cell_type": "markdown",
   "metadata": {},
   "source": [
    "### Calculating ML for differnt orders:"
   ]
  },
  {
   "cell_type": "code",
   "execution_count": 174,
   "metadata": {},
   "outputs": [
    {
     "name": "stdout",
     "output_type": "stream",
     "text": [
      "\n",
      "MLE parameters of order 1:      ['13.20']\n",
      "\n",
      "MLE parameters of order 2:      ['12.76', '1.09']\n",
      "\n",
      "MLE parameters of order 3:      ['0.90', '1.96', '6.03']\n",
      "\n",
      "True model parameters: [1, 2, 6]\n"
     ]
    },
    {
     "data": {
      "image/png": "[encoded data removed]",
      "text/plain": "<Figure size 432x288 with 1 Axes>"
     },
     "metadata": {
      "needs_background": "light",
      "transient": {}
     },
     "output_type": "display_data"
    }
   ],
   "source": [
    "estimate1 = MLEfunction(1, laplace.pdf)\n",
    "estimate2 = MLEfunction(2, laplace.pdf)\n",
    "estimate3 = MLEfunction(3, laplace.pdf)\n",
    "\n",
    "print(f\"\\nTrue model parameters: {true_params}\")\n",
    "\n",
    "# Plot measured data\n",
    "plt.scatter(u, y, label=r\"Measured data\")\n",
    "u0 = np.linspace(min(u), max(u), N)\n",
    "plt.plot(u0, estimate1(u0), \"r\", alpha=0.5, lw=3, label=\"ML of order 1\")\n",
    "plt.plot(u0, estimate2(u0), \"b\", alpha=0.7, lw=3, label=\"ML of order 2\")\n",
    "plt.plot(u0, estimate3(u0), \"g\", alpha=1, lw=3, label=\"ML of order 3\")\n",
    "plt.plot(u0, y_model(u0), \"r--\", alpha = 0.5, lw = 3, label=\"True model\")\n",
    "plt.legend()\n",
    "plt.xlabel(\"x\")\n",
    "\n",
    "plt.ylabel(\"y\");"
   ]
  },
  {
   "cell_type": "code",
   "execution_count": null,
   "metadata": {},
   "outputs": [],
   "source": []
  }
 ],
 "metadata": {
  "kernelspec": {
   "display_name": "Python 3.8.5 64-bit ('anaconda3': virtualenv)",
   "metadata": {
    "interpreter": {
     "hash": "6f46f7eecf513ccb9723df9b1e51a51990d29cc5250a5d50f9bea070973a2595"
    }
   },
   "name": "python3"
  },
  "language_info": {
   "codemirror_mode": {
    "name": "ipython",
    "version": 3
   },
   "file_extension": ".py",
   "mimetype": "text/x-python",
   "name": "python",
   "nbconvert_exporter": "python",
   "pygments_lexer": "ipython3",
   "version": "3.8.5"
  },
  "orig_nbformat": 2
 },
 "nbformat": 4,
 "nbformat_minor": 2
}